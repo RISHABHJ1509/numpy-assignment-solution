{
 "cells": [
  {
   "cell_type": "code",
   "execution_count": 2,
   "id": "247bb795",
   "metadata": {},
   "outputs": [],
   "source": [
    "#1. What is a Python library? Why do we use Python libraries?\n",
    "'''\n",
    "Ans. Python libraries is a set of prewriiten code and function that we can use again efficiently for our usage.\n",
    "it makes our programming easy as we dont have to write the code again. Python libraries makes our programming easy'''\n",
    "import numpy as np "
   ]
  },
  {
   "cell_type": "code",
   "execution_count": 3,
   "id": "578aa6bf",
   "metadata": {},
   "outputs": [
    {
     "data": {
      "text/plain": [
       "'\\nAns. Numpy arrays can only store elements of the same data type, typically numerical data types like integers or floats\\nPython lists can store elements of different data types within the same list.Numpy arrays offer better performance for numerical\\ncomputations and operations compared to Python lists. Numpy is implemented in C and optimized for performance, \\nwhereas Python lists are implemented in Python and are more general-purpose'"
      ]
     },
     "execution_count": 3,
     "metadata": {},
     "output_type": "execute_result"
    }
   ],
   "source": [
    "#2. What is the difference between Numpy array and List?\n",
    "'''\n",
    "Ans. Numpy arrays can only store elements of the same data type, typically numerical data types like integers or floats\n",
    "Python lists can store elements of different data types within the same list.Numpy arrays offer better performance for numerical\n",
    "computations and operations compared to Python lists. Numpy is implemented in C and optimized for performance, \n",
    "whereas Python lists are implemented in Python and are more general-purpose'''"
   ]
  },
  {
   "cell_type": "code",
   "execution_count": 4,
   "id": "0f34be6c",
   "metadata": {},
   "outputs": [
    {
     "data": {
      "text/plain": [
       "(3, 4)"
      ]
     },
     "execution_count": 4,
     "metadata": {},
     "output_type": "execute_result"
    }
   ],
   "source": [
    "#3. Find the shape, size and dimension of the following array?\n",
    "\n",
    "a =[[1, 2, 3, 4],\n",
    "    [5, 6, 7, 8],\n",
    "    [9, 10, 11, 12]]\n",
    "arr = np.array(a)\n",
    "arr.shape"
   ]
  },
  {
   "cell_type": "code",
   "execution_count": 5,
   "id": "25485cbe",
   "metadata": {},
   "outputs": [
    {
     "data": {
      "text/plain": [
       "12"
      ]
     },
     "execution_count": 5,
     "metadata": {},
     "output_type": "execute_result"
    }
   ],
   "source": [
    "arr.size"
   ]
  },
  {
   "cell_type": "code",
   "execution_count": 6,
   "id": "2275abbd",
   "metadata": {},
   "outputs": [
    {
     "data": {
      "text/plain": [
       "2"
      ]
     },
     "execution_count": 6,
     "metadata": {},
     "output_type": "execute_result"
    }
   ],
   "source": [
    "arr.ndim"
   ]
  },
  {
   "cell_type": "code",
   "execution_count": 7,
   "id": "cba09729",
   "metadata": {},
   "outputs": [
    {
     "data": {
      "text/plain": [
       "array([1, 2, 3, 4])"
      ]
     },
     "execution_count": 7,
     "metadata": {},
     "output_type": "execute_result"
    }
   ],
   "source": [
    "#4. Write python code to access the first row of the following array?\n",
    "a = [[1, 2, 3, 4],\n",
    "    [5, 6, 7, 8],\n",
    "    [9, 10, 11, 12]]\n",
    "\n",
    "arr = np.array(a)\n",
    "arr[0]"
   ]
  },
  {
   "cell_type": "code",
   "execution_count": 20,
   "id": "2a7f65a1",
   "metadata": {},
   "outputs": [
    {
     "data": {
      "text/plain": [
       "12"
      ]
     },
     "execution_count": 20,
     "metadata": {},
     "output_type": "execute_result"
    }
   ],
   "source": [
    "#5. How do you access the element at the third row and fourth column from the given numpy array?\n",
    "a = [[1, 2, 3, 4],\n",
    "    [5, 6, 7, 8],\n",
    "    [9, 10, 11, 12]]\n",
    "\n",
    "arr = np.array(a)\n",
    "arr[2,3]"
   ]
  },
  {
   "cell_type": "code",
   "execution_count": 23,
   "id": "ad5b9afb",
   "metadata": {},
   "outputs": [
    {
     "name": "stdout",
     "output_type": "stream",
     "text": [
      "[[ 2  4]\n",
      " [ 6  8]\n",
      " [10 12]]\n"
     ]
    }
   ],
   "source": [
    "#6. 6. Write code to extract all odd-indexed elements from the given numpy array?\n",
    "a = [[1, 2, 3, 4],\n",
    "    [5, 6, 7, 8],\n",
    "    [9, 10, 11, 12]]\n",
    "arr = np.array(a)\n",
    "\n",
    "odd_indexed_elements = arr[:, 1::2]  \n",
    "print(odd_indexed_elements)"
   ]
  },
  {
   "cell_type": "code",
   "execution_count": 10,
   "id": "a1564a6c",
   "metadata": {},
   "outputs": [
    {
     "data": {
      "text/plain": [
       "array([[0.57239124, 0.35269556, 0.84667673],\n",
       "       [0.49096158, 0.37751501, 0.03922158],\n",
       "       [0.96780639, 0.4699601 , 0.80216522]])"
      ]
     },
     "execution_count": 10,
     "metadata": {},
     "output_type": "execute_result"
    }
   ],
   "source": [
    "#7. How can you generate a random 3x3 matrix with values between 0 and 1?\n",
    "\n",
    "a = np.random.rand(3,3)\n",
    "a"
   ]
  },
  {
   "cell_type": "code",
   "execution_count": null,
   "id": "71ec752e",
   "metadata": {},
   "outputs": [],
   "source": [
    "#8. Describe the difference between np.random.rand and np.random.randn?\n",
    "'''\n",
    "numpy.random.randn generates samples from the normal distribution, while numpy.random.rand from a uniform distribution\n",
    "(in the range [0,1))'''"
   ]
  },
  {
   "cell_type": "code",
   "execution_count": 15,
   "id": "bdf2e523",
   "metadata": {},
   "outputs": [
    {
     "data": {
      "text/plain": [
       "array([[[ 1,  2,  3,  4],\n",
       "        [ 5,  6,  7,  8],\n",
       "        [ 9, 10, 11, 12]]])"
      ]
     },
     "execution_count": 15,
     "metadata": {},
     "output_type": "execute_result"
    }
   ],
   "source": [
    "#9. Write code to increase the dimension of the following array?\n",
    "a = [[1, 2, 3, 4],\n",
    "    [5, 6, 7, 8],\n",
    "    [9, 10, 11, 12]]\n",
    "arr = np.array(a)\n",
    "arr1 = np.expand_dims(arr,axis = 0)\n",
    "arr1"
   ]
  },
  {
   "cell_type": "code",
   "execution_count": 16,
   "id": "23f907e1",
   "metadata": {},
   "outputs": [
    {
     "data": {
      "text/plain": [
       "array([[ 1,  5,  9],\n",
       "       [ 2,  6, 10],\n",
       "       [ 3,  7, 11],\n",
       "       [ 4,  8, 12]])"
      ]
     },
     "execution_count": 16,
     "metadata": {},
     "output_type": "execute_result"
    }
   ],
   "source": [
    "#10. How to transpose the following array in NumPy?\n",
    "a =[[1, 2, 3, 4],\n",
    "    [5, 6, 7, 8],\n",
    "    [9, 10, 11, 12]]\n",
    "\n",
    "arr = np.array(a)\n",
    "arr.T"
   ]
  },
  {
   "cell_type": "code",
   "execution_count": 25,
   "id": "9a393f9f",
   "metadata": {},
   "outputs": [
    {
     "data": {
      "text/plain": [
       "array([[  1,   4,   9,  16],\n",
       "       [ 25,  36,  49,  64],\n",
       "       [ 81, 100, 121, 144]])"
      ]
     },
     "execution_count": 25,
     "metadata": {},
     "output_type": "execute_result"
    }
   ],
   "source": [
    "#11. Consider the following matrix:\n",
    "Matrix_A2 = [[1, 2, 3, 4], [5, 6, 7, 8],[9, 10, 11, 12]]\n",
    "Matrix_B2 = [[1, 2, 3, 4], [5, 6, 7, 8],[9, 10, 11, 12]]\n",
    "\n",
    "#Perform the following operation using Python\n",
    "\n",
    "#1. Index wise application\n",
    "arr1 = np.array(Matrix_A2)\n",
    "arr2 = np.array(Matrix_B2)\n",
    "\n",
    "arr1*arr2\n"
   ]
  },
  {
   "cell_type": "code",
   "execution_count": 34,
   "id": "eb409663",
   "metadata": {},
   "outputs": [
    {
     "ename": "ValueError",
     "evalue": "matmul: Input operand 1 has a mismatch in its core dimension 0, with gufunc signature (n?,k),(k,m?)->(n?,m?) (size 3 is different from 4)",
     "output_type": "error",
     "traceback": [
      "\u001b[1;31m---------------------------------------------------------------------------\u001b[0m",
      "\u001b[1;31mValueError\u001b[0m                                Traceback (most recent call last)",
      "Cell \u001b[1;32mIn[34], line 3\u001b[0m\n\u001b[0;32m      1\u001b[0m \u001b[38;5;66;03m#2. Matrix Multiplication\u001b[39;00m\n\u001b[1;32m----> 3\u001b[0m arr1\u001b[38;5;241m@\u001b[39m arr2\n",
      "\u001b[1;31mValueError\u001b[0m: matmul: Input operand 1 has a mismatch in its core dimension 0, with gufunc signature (n?,k),(k,m?)->(n?,m?) (size 3 is different from 4)"
     ]
    }
   ],
   "source": [
    "#2. Matrix Multiplication\n",
    "\n",
    "arr1@ arr2\n",
    "\n",
    "#matrix multiplication can't be done as the number columns in first matrix does not match with number of rows in second matrix"
   ]
  },
  {
   "cell_type": "code",
   "execution_count": 35,
   "id": "e959f9bf",
   "metadata": {},
   "outputs": [
    {
     "data": {
      "text/plain": [
       "array([[ 2,  4,  6,  8],\n",
       "       [10, 12, 14, 16],\n",
       "       [18, 20, 22, 24]])"
      ]
     },
     "execution_count": 35,
     "metadata": {},
     "output_type": "execute_result"
    }
   ],
   "source": [
    "#3. add both the matrix\n",
    "arr+arr2"
   ]
  },
  {
   "cell_type": "code",
   "execution_count": 36,
   "id": "3eb6c9da",
   "metadata": {},
   "outputs": [
    {
     "data": {
      "text/plain": [
       "array([[0, 0, 0, 0],\n",
       "       [0, 0, 0, 0],\n",
       "       [0, 0, 0, 0]])"
      ]
     },
     "execution_count": 36,
     "metadata": {},
     "output_type": "execute_result"
    }
   ],
   "source": [
    "#4. Subtract matrix b from a\n",
    "arr1 - arr2"
   ]
  },
  {
   "cell_type": "code",
   "execution_count": 37,
   "id": "bc572a46",
   "metadata": {},
   "outputs": [
    {
     "data": {
      "text/plain": [
       "array([[1., 1., 1., 1.],\n",
       "       [1., 1., 1., 1.],\n",
       "       [1., 1., 1., 1.]])"
      ]
     },
     "execution_count": 37,
     "metadata": {},
     "output_type": "execute_result"
    }
   ],
   "source": [
    "#5. divide matrix b by a\n",
    "arr2/arr1"
   ]
  },
  {
   "cell_type": "code",
   "execution_count": null,
   "id": "8d5e7a57",
   "metadata": {},
   "outputs": [],
   "source": [
    "#12. Which function in Numpy can be used to swap the byte order of an array?\n",
    "'''\n",
    "In NumPy, you can use the byteswap method to swap the byte order of an array. This method swaps the byte order of the elements\n",
    "in the array without changing the data type or the memory layout.'''"
   ]
  },
  {
   "cell_type": "code",
   "execution_count": null,
   "id": "7acae994",
   "metadata": {},
   "outputs": [],
   "source": [
    "#13. What is the significance of the np.linalg.inv function?\n",
    "'''\n",
    "The np.linalg.inv function in NumPy is used to compute the multiplicative inverse of a square matrix. \n",
    "Specifically, it calculates the inverse of a given matrix '''"
   ]
  },
  {
   "cell_type": "code",
   "execution_count": 39,
   "id": "ad96d701",
   "metadata": {},
   "outputs": [
    {
     "data": {
      "text/plain": [
       "array([[ 1,  2,  3,  4,  5,  6],\n",
       "       [ 7,  8,  9, 10, 11, 12]])"
      ]
     },
     "execution_count": 39,
     "metadata": {},
     "output_type": "execute_result"
    }
   ],
   "source": [
    "#14. What does the np.reshape function do, and how is it use?\n",
    "'''\n",
    "Ans. It Gives a new shape to an array without changing its data . it sannot change the size of array. after reshaping the \n",
    "array the size should be same as the orignal array.'''\n",
    "\n",
    "#it can be use\n",
    "a = [[1, 2, 3, 4],\n",
    "    [5, 6, 7, 8],\n",
    "    [9, 10, 11, 12]]\n",
    "arr = np.array(a)\n",
    "arr.reshape(2,6)"
   ]
  },
  {
   "cell_type": "code",
   "execution_count": null,
   "id": "7eb6539b",
   "metadata": {},
   "outputs": [],
   "source": [
    "#15. What is broadcasting in Numpy?\n",
    "'''\n",
    "In NumPy, broadcasting refers to the ability of arrays with different shapes to be operated on with arithmetic operations,\n",
    "without explicitly reshaping or duplicating the data.\n",
    "\n",
    "'''"
   ]
  },
  {
   "cell_type": "code",
   "execution_count": null,
   "id": "aeef6342",
   "metadata": {},
   "outputs": [],
   "source": []
  },
  {
   "cell_type": "code",
   "execution_count": null,
   "id": "851bf2a6",
   "metadata": {},
   "outputs": [],
   "source": []
  }
 ],
 "metadata": {
  "kernelspec": {
   "display_name": "Python 3 (ipykernel)",
   "language": "python",
   "name": "python3"
  },
  "language_info": {
   "codemirror_mode": {
    "name": "ipython",
    "version": 3
   },
   "file_extension": ".py",
   "mimetype": "text/x-python",
   "name": "python",
   "nbconvert_exporter": "python",
   "pygments_lexer": "ipython3",
   "version": "3.11.4"
  }
 },
 "nbformat": 4,
 "nbformat_minor": 5
}
